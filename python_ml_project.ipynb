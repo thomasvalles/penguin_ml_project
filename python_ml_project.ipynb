{
 "cells": [
  {
   "cell_type": "markdown",
   "metadata": {},
   "source": [
    "# PIC-16A Mini-Project\n",
    "\n",
    "Thomas Valles, Adhvaith Vijay"
   ]
  },
  {
   "cell_type": "markdown",
   "metadata": {},
   "source": [
    "## Group Contribution Statement\n",
    "\n",
    "Thomas will lead the exploratory analysis and the logistic regression model. Adhvaith complete the decision tree model as well as a K-nearest neighbors model. We will both work on the final discussion"
   ]
  },
  {
   "cell_type": "markdown",
   "metadata": {},
   "source": [
    "## Exploratory Analysis"
   ]
  },
  {
   "cell_type": "code",
   "execution_count": 1,
   "metadata": {},
   "outputs": [],
   "source": [
    "import urllib\n",
    "url = 'https://philchodrow.github.io/PIC16A/datasets/palmer_penguins.csv'\n",
    "filedata = urllib.request.urlopen(url)\n",
    "with open('palmer_penguins.csv', 'wb') as f:\n",
    "    f.write(filedata.read())"
   ]
  },
  {
   "cell_type": "code",
   "execution_count": 2,
   "metadata": {},
   "outputs": [],
   "source": [
    "import numpy as np\n",
    "import pandas as pd\n",
    "from matplotlib import pyplot as plt\n",
    "import warnings\n",
    "warnings.filterwarnings('ignore')"
   ]
  },
  {
   "cell_type": "code",
   "execution_count": 3,
   "metadata": {},
   "outputs": [],
   "source": [
    "penguins = pd.read_csv('palmer_penguins.csv')\n",
    "\n",
    "penguins['Species'] = penguins['Species'].str.split().str.get(0)"
   ]
  },
  {
   "cell_type": "code",
   "execution_count": 4,
   "metadata": {},
   "outputs": [
    {
     "data": {
      "text/html": [
       "<div>\n",
       "<style scoped>\n",
       "    .dataframe tbody tr th:only-of-type {\n",
       "        vertical-align: middle;\n",
       "    }\n",
       "\n",
       "    .dataframe tbody tr th {\n",
       "        vertical-align: top;\n",
       "    }\n",
       "\n",
       "    .dataframe thead th {\n",
       "        text-align: right;\n",
       "    }\n",
       "</style>\n",
       "<table border=\"1\" class=\"dataframe\">\n",
       "  <thead>\n",
       "    <tr style=\"text-align: right;\">\n",
       "      <th></th>\n",
       "      <th>studyName</th>\n",
       "      <th>Sample Number</th>\n",
       "      <th>Species</th>\n",
       "      <th>Region</th>\n",
       "      <th>Island</th>\n",
       "      <th>Stage</th>\n",
       "      <th>Individual ID</th>\n",
       "      <th>Clutch Completion</th>\n",
       "      <th>Date Egg</th>\n",
       "      <th>Culmen Length (mm)</th>\n",
       "      <th>Culmen Depth (mm)</th>\n",
       "      <th>Flipper Length (mm)</th>\n",
       "      <th>Body Mass (g)</th>\n",
       "      <th>Sex</th>\n",
       "      <th>Delta 15 N (o/oo)</th>\n",
       "      <th>Delta 13 C (o/oo)</th>\n",
       "      <th>Comments</th>\n",
       "    </tr>\n",
       "  </thead>\n",
       "  <tbody>\n",
       "    <tr>\n",
       "      <th>0</th>\n",
       "      <td>PAL0708</td>\n",
       "      <td>1</td>\n",
       "      <td>Adelie</td>\n",
       "      <td>Anvers</td>\n",
       "      <td>Torgersen</td>\n",
       "      <td>Adult, 1 Egg Stage</td>\n",
       "      <td>N1A1</td>\n",
       "      <td>Yes</td>\n",
       "      <td>11/11/07</td>\n",
       "      <td>39.1</td>\n",
       "      <td>18.7</td>\n",
       "      <td>181.0</td>\n",
       "      <td>3750.0</td>\n",
       "      <td>MALE</td>\n",
       "      <td>NaN</td>\n",
       "      <td>NaN</td>\n",
       "      <td>Not enough blood for isotopes.</td>\n",
       "    </tr>\n",
       "    <tr>\n",
       "      <th>1</th>\n",
       "      <td>PAL0708</td>\n",
       "      <td>2</td>\n",
       "      <td>Adelie</td>\n",
       "      <td>Anvers</td>\n",
       "      <td>Torgersen</td>\n",
       "      <td>Adult, 1 Egg Stage</td>\n",
       "      <td>N1A2</td>\n",
       "      <td>Yes</td>\n",
       "      <td>11/11/07</td>\n",
       "      <td>39.5</td>\n",
       "      <td>17.4</td>\n",
       "      <td>186.0</td>\n",
       "      <td>3800.0</td>\n",
       "      <td>FEMALE</td>\n",
       "      <td>8.94956</td>\n",
       "      <td>-24.69454</td>\n",
       "      <td>NaN</td>\n",
       "    </tr>\n",
       "    <tr>\n",
       "      <th>2</th>\n",
       "      <td>PAL0708</td>\n",
       "      <td>3</td>\n",
       "      <td>Adelie</td>\n",
       "      <td>Anvers</td>\n",
       "      <td>Torgersen</td>\n",
       "      <td>Adult, 1 Egg Stage</td>\n",
       "      <td>N2A1</td>\n",
       "      <td>Yes</td>\n",
       "      <td>11/16/07</td>\n",
       "      <td>40.3</td>\n",
       "      <td>18.0</td>\n",
       "      <td>195.0</td>\n",
       "      <td>3250.0</td>\n",
       "      <td>FEMALE</td>\n",
       "      <td>8.36821</td>\n",
       "      <td>-25.33302</td>\n",
       "      <td>NaN</td>\n",
       "    </tr>\n",
       "    <tr>\n",
       "      <th>3</th>\n",
       "      <td>PAL0708</td>\n",
       "      <td>4</td>\n",
       "      <td>Adelie</td>\n",
       "      <td>Anvers</td>\n",
       "      <td>Torgersen</td>\n",
       "      <td>Adult, 1 Egg Stage</td>\n",
       "      <td>N2A2</td>\n",
       "      <td>Yes</td>\n",
       "      <td>11/16/07</td>\n",
       "      <td>NaN</td>\n",
       "      <td>NaN</td>\n",
       "      <td>NaN</td>\n",
       "      <td>NaN</td>\n",
       "      <td>NaN</td>\n",
       "      <td>NaN</td>\n",
       "      <td>NaN</td>\n",
       "      <td>Adult not sampled.</td>\n",
       "    </tr>\n",
       "    <tr>\n",
       "      <th>4</th>\n",
       "      <td>PAL0708</td>\n",
       "      <td>5</td>\n",
       "      <td>Adelie</td>\n",
       "      <td>Anvers</td>\n",
       "      <td>Torgersen</td>\n",
       "      <td>Adult, 1 Egg Stage</td>\n",
       "      <td>N3A1</td>\n",
       "      <td>Yes</td>\n",
       "      <td>11/16/07</td>\n",
       "      <td>36.7</td>\n",
       "      <td>19.3</td>\n",
       "      <td>193.0</td>\n",
       "      <td>3450.0</td>\n",
       "      <td>FEMALE</td>\n",
       "      <td>8.76651</td>\n",
       "      <td>-25.32426</td>\n",
       "      <td>NaN</td>\n",
       "    </tr>\n",
       "  </tbody>\n",
       "</table>\n",
       "</div>"
      ],
      "text/plain": [
       "  studyName  Sample Number Species  Region     Island               Stage  \\\n",
       "0   PAL0708              1  Adelie  Anvers  Torgersen  Adult, 1 Egg Stage   \n",
       "1   PAL0708              2  Adelie  Anvers  Torgersen  Adult, 1 Egg Stage   \n",
       "2   PAL0708              3  Adelie  Anvers  Torgersen  Adult, 1 Egg Stage   \n",
       "3   PAL0708              4  Adelie  Anvers  Torgersen  Adult, 1 Egg Stage   \n",
       "4   PAL0708              5  Adelie  Anvers  Torgersen  Adult, 1 Egg Stage   \n",
       "\n",
       "  Individual ID Clutch Completion  Date Egg  Culmen Length (mm)  \\\n",
       "0          N1A1               Yes  11/11/07                39.1   \n",
       "1          N1A2               Yes  11/11/07                39.5   \n",
       "2          N2A1               Yes  11/16/07                40.3   \n",
       "3          N2A2               Yes  11/16/07                 NaN   \n",
       "4          N3A1               Yes  11/16/07                36.7   \n",
       "\n",
       "   Culmen Depth (mm)  Flipper Length (mm)  Body Mass (g)     Sex  \\\n",
       "0               18.7                181.0         3750.0    MALE   \n",
       "1               17.4                186.0         3800.0  FEMALE   \n",
       "2               18.0                195.0         3250.0  FEMALE   \n",
       "3                NaN                  NaN            NaN     NaN   \n",
       "4               19.3                193.0         3450.0  FEMALE   \n",
       "\n",
       "   Delta 15 N (o/oo)  Delta 13 C (o/oo)                        Comments  \n",
       "0                NaN                NaN  Not enough blood for isotopes.  \n",
       "1            8.94956          -24.69454                             NaN  \n",
       "2            8.36821          -25.33302                             NaN  \n",
       "3                NaN                NaN              Adult not sampled.  \n",
       "4            8.76651          -25.32426                             NaN  "
      ]
     },
     "execution_count": 4,
     "metadata": {},
     "output_type": "execute_result"
    }
   ],
   "source": [
    "penguins.head()"
   ]
  },
  {
   "cell_type": "markdown",
   "metadata": {},
   "source": [
    "We wish to be able to create a model that can determine a penguin's species based on some of its attributes. Let's first see what the possible species are:"
   ]
  },
  {
   "cell_type": "code",
   "execution_count": 5,
   "metadata": {},
   "outputs": [
    {
     "data": {
      "text/plain": [
       "{'Adelie', 'Chinstrap', 'Gentoo'}"
      ]
     },
     "execution_count": 5,
     "metadata": {},
     "output_type": "execute_result"
    }
   ],
   "source": [
    "set(penguins['Species'])"
   ]
  },
  {
   "cell_type": "markdown",
   "metadata": {},
   "source": [
    "There are three unique species. Now, let's see what kind of information we have about each penguin:"
   ]
  },
  {
   "cell_type": "code",
   "execution_count": 6,
   "metadata": {},
   "outputs": [
    {
     "data": {
      "text/plain": [
       "Index(['studyName', 'Sample Number', 'Species', 'Region', 'Island', 'Stage',\n",
       "       'Individual ID', 'Clutch Completion', 'Date Egg', 'Culmen Length (mm)',\n",
       "       'Culmen Depth (mm)', 'Flipper Length (mm)', 'Body Mass (g)', 'Sex',\n",
       "       'Delta 15 N (o/oo)', 'Delta 13 C (o/oo)', 'Comments'],\n",
       "      dtype='object')"
      ]
     },
     "execution_count": 6,
     "metadata": {},
     "output_type": "execute_result"
    }
   ],
   "source": [
    "penguins.columns"
   ]
  },
  {
   "cell_type": "markdown",
   "metadata": {},
   "source": [
    "Columns such as 'studyName', 'Sample Number', 'Stage', 'Individual ID', 'Clutch Completion', 'Date Egg', and 'Comments', probably won't be helpful to us in making a machine learning model that is intended to predict a random penguin's species. Since we hope to be able to apply our model to a random penguin not necessarily from this dataframe, we should focus only on attributes that are measurable, and disregard things like the ID given to the penguin or the name of the study it came from. Delta 15 N and Delta 13 C are measurements of the ratio between different stable isotopes of nitrogen and carbon respectively in the blood of the penguins.\n",
    "\n",
    "Although it may be tempting to use all of the other columns to train and test our model, this will likely lead to overfitting. Hence, for each model, we will select only three columns (one qualitative- sex, region, or island, and two quantitative) for training and testing. In order to help determine which columns of the data to use, we must visualize the data.\n",
    "\n",
    "We will first write a function that can group the penguins by species and display average values for other numerical columns. With the resulting table, we hope to be able to see large differences in some of the average values across different columns for the different species. Those columns of the data which vary greatly between species will be most helpful for us in our modelling, as it will make more difficult for our model to be confused by \"borderline\" penguins."
   ]
  },
  {
   "cell_type": "code",
   "execution_count": 7,
   "metadata": {},
   "outputs": [],
   "source": [
    "def penguin_summary_table(group_cols, value_cols):\n",
    "    '''\n",
    "    Creates a table grouping the penguins data by group_cols \n",
    "    (the rows of the resulting table) and looking at the value_cols\n",
    "    (the columns of the resulting table). Each cell in the resulting\n",
    "    table is the average for the group rounded to 2 decimal places\n",
    "    \n",
    "    parameters\n",
    "    -------------\n",
    "    group_cols: the columns in the penguins data to group by (should be qualitative)\n",
    "    value_cols: the columns in the penguins data to display in the table (should be quantitative)\n",
    "    \n",
    "    return\n",
    "    -------------\n",
    "    a dataframe with len(group_cols) rows and len(val_cols) columns\n",
    "    \n",
    "    '''\n",
    "    return penguins.groupby(group_cols)[value_cols].mean().round(2)"
   ]
  },
  {
   "cell_type": "markdown",
   "metadata": {},
   "source": [
    "Next, we will write a function that will display a scatterplot where the x and y axes are two numerically valued columns from the dataframe. This function is intended to plot the values for various species in different colors on the same axis, allowing us to (hopefully) see how the different clear trends that are different for each species. Scatter plots are helpful for us as each point will represent a penguin. Clear separations in the colors within individual plots will indicate that the columns chosen for the axes of the plot are good candidates to use for our model."
   ]
  },
  {
   "cell_type": "code",
   "execution_count": 8,
   "metadata": {},
   "outputs": [],
   "source": [
    "def penguin_scatter(df, value_cols, fig, ax, title):\n",
    "    '''\n",
    "    Creates a scatter plot of the penguins dataframe or a subset of it where the \n",
    "    x and y axes are determined by the value_cols input\n",
    "    \n",
    "    parameters\n",
    "    ----------------\n",
    "    df: the data from with which to work with\n",
    "    value_cols: the 2 columns of the data frame to plot. value_cols[0] will be the x-axis\n",
    "                value_cols[1] will be the y-axis\n",
    "    fig, ax: the figure and axis to plot on\n",
    "    title: the title to give the plot\n",
    "    '''\n",
    "    \n",
    "    if(len(value_cols) != 2):\n",
    "        raise ValueError('value_cols must contain exactly 2 column names from the dataframe')\n",
    "        \n",
    "        \n",
    "    # set the x and y label appropriately\n",
    "    ax.set(xlabel = value_cols[0],\n",
    "           ylabel = value_cols[1])\n",
    "    \n",
    "    # make the scatterplot, label being the name of the dataframe\n",
    "    ax.scatter(df[value_cols[0]], df[value_cols[1]],\n",
    "              alpha = 0.5, label = df.name)\n",
    "    \n",
    "    #show legend and set title\n",
    "    ax.legend()\n",
    "    ax.set(title = title)"
   ]
  },
  {
   "cell_type": "markdown",
   "metadata": {},
   "source": [
    "We will test columns that are likely correlated. First, we will see make a table comparing culmen length and culmen depth for the different species."
   ]
  },
  {
   "cell_type": "code",
   "execution_count": 9,
   "metadata": {},
   "outputs": [
    {
     "data": {
      "text/html": [
       "<div>\n",
       "<style scoped>\n",
       "    .dataframe tbody tr th:only-of-type {\n",
       "        vertical-align: middle;\n",
       "    }\n",
       "\n",
       "    .dataframe tbody tr th {\n",
       "        vertical-align: top;\n",
       "    }\n",
       "\n",
       "    .dataframe thead th {\n",
       "        text-align: right;\n",
       "    }\n",
       "</style>\n",
       "<table border=\"1\" class=\"dataframe\">\n",
       "  <thead>\n",
       "    <tr style=\"text-align: right;\">\n",
       "      <th></th>\n",
       "      <th>Culmen Length (mm)</th>\n",
       "      <th>Culmen Depth (mm)</th>\n",
       "    </tr>\n",
       "    <tr>\n",
       "      <th>Species</th>\n",
       "      <th></th>\n",
       "      <th></th>\n",
       "    </tr>\n",
       "  </thead>\n",
       "  <tbody>\n",
       "    <tr>\n",
       "      <th>Adelie</th>\n",
       "      <td>38.79</td>\n",
       "      <td>18.35</td>\n",
       "    </tr>\n",
       "    <tr>\n",
       "      <th>Chinstrap</th>\n",
       "      <td>48.83</td>\n",
       "      <td>18.42</td>\n",
       "    </tr>\n",
       "    <tr>\n",
       "      <th>Gentoo</th>\n",
       "      <td>47.50</td>\n",
       "      <td>14.98</td>\n",
       "    </tr>\n",
       "  </tbody>\n",
       "</table>\n",
       "</div>"
      ],
      "text/plain": [
       "           Culmen Length (mm)  Culmen Depth (mm)\n",
       "Species                                         \n",
       "Adelie                  38.79              18.35\n",
       "Chinstrap               48.83              18.42\n",
       "Gentoo                  47.50              14.98"
      ]
     },
     "execution_count": 9,
     "metadata": {},
     "output_type": "execute_result"
    }
   ],
   "source": [
    "penguin_summary_table(['Species'], ['Culmen Length (mm)', 'Culmen Depth (mm)'])"
   ]
  },
  {
   "cell_type": "markdown",
   "metadata": {},
   "source": [
    "This looks very promising. Adelie penguins have a much shorter culmen on average than the Chinstrap and Gentoo penguins, and the Gentoo penguins have a much shallower culmen than the other two species. Motivated by these large differences, we will use our scatterplot function to further visualize how culmen length and depth varies across the different species."
   ]
  },
  {
   "cell_type": "code",
   "execution_count": 10,
   "metadata": {},
   "outputs": [
    {
     "data": {
      "text/html": [
       "<div>\n",
       "<style scoped>\n",
       "    .dataframe tbody tr th:only-of-type {\n",
       "        vertical-align: middle;\n",
       "    }\n",
       "\n",
       "    .dataframe tbody tr th {\n",
       "        vertical-align: top;\n",
       "    }\n",
       "\n",
       "    .dataframe thead th {\n",
       "        text-align: right;\n",
       "    }\n",
       "</style>\n",
       "<table border=\"1\" class=\"dataframe\">\n",
       "  <thead>\n",
       "    <tr style=\"text-align: right;\">\n",
       "      <th></th>\n",
       "    </tr>\n",
       "  </thead>\n",
       "  <tbody>\n",
       "  </tbody>\n",
       "</table>\n",
       "</div>"
      ],
      "text/plain": [
       "Empty DataFrame\n",
       "Columns: []\n",
       "Index: []"
      ]
     },
     "execution_count": 10,
     "metadata": {},
     "output_type": "execute_result"
    },
    {
     "data": {
      "image/png": "[encoded data removed]",
      "text/plain": [
       "<Figure size 432x288 with 1 Axes>"
      ]
     },
     "metadata": {
      "needs_background": "light"
     },
     "output_type": "display_data"
    }
   ],
   "source": [
    "fig, ax = plt.subplots(1)\n",
    "penguins.groupby(['Species']).apply(penguin_scatter, \n",
    "                                    value_cols = ['Culmen Length (mm)', 'Culmen Depth (mm)'],\n",
    "                                    fig = fig, ax = ax,\n",
    "                                    title = \"Culmen Lengths vs. Culmen Depths for Different Species\")"
   ]
  },
  {
   "cell_type": "markdown",
   "metadata": {},
   "source": [
    "This is great! There is very little overlap between the different species. We will certainly use these two quantitative columns in training and testing our model.\n",
    "\n",
    "There may be other columns which are also good candidates for our model. Let's test flipper length and body mass."
   ]
  },
  {
   "cell_type": "code",
   "execution_count": 11,
   "metadata": {},
   "outputs": [
    {
     "data": {
      "text/html": [
       "<div>\n",
       "<style scoped>\n",
       "    .dataframe tbody tr th:only-of-type {\n",
       "        vertical-align: middle;\n",
       "    }\n",
       "\n",
       "    .dataframe tbody tr th {\n",
       "        vertical-align: top;\n",
       "    }\n",
       "\n",
       "    .dataframe thead th {\n",
       "        text-align: right;\n",
       "    }\n",
       "</style>\n",
       "<table border=\"1\" class=\"dataframe\">\n",
       "  <thead>\n",
       "    <tr style=\"text-align: right;\">\n",
       "      <th></th>\n",
       "    </tr>\n",
       "  </thead>\n",
       "  <tbody>\n",
       "  </tbody>\n",
       "</table>\n",
       "</div>"
      ],
      "text/plain": [
       "Empty DataFrame\n",
       "Columns: []\n",
       "Index: []"
      ]
     },
     "execution_count": 11,
     "metadata": {},
     "output_type": "execute_result"
    },
    {
     "data": {
      "image/png": "[encoded data removed]",
      "text/plain": [
       "<Figure size 432x288 with 1 Axes>"
      ]
     },
     "metadata": {
      "needs_background": "light"
     },
     "output_type": "display_data"
    }
   ],
   "source": [
    "fig, ax = plt.subplots(1)\n",
    "penguins.groupby(['Species']).apply(penguin_scatter,\n",
    "                                    value_cols = ['Flipper Length (mm)', 'Body Mass (g)'],\n",
    "                                    fig = fig, ax = ax,\n",
    "                                    title = 'Flipper Length vs. Body Mass for Different Species')"
   ]
  },
  {
   "cell_type": "markdown",
   "metadata": {},
   "source": [
    "There is a clear difference between Gentoo penguins and the other two species in this graph, but the Adelie and Chinstrap points overlap. A model using these columns would probably be very good at identifying Gentoo penguins, but would often confuse Adelie and Chinstrap penguins.\n",
    "\n",
    "Let's now see how the Delta 15 N and Delta 13 C values vary across the different species."
   ]
  },
  {
   "cell_type": "code",
   "execution_count": 12,
   "metadata": {},
   "outputs": [
    {
     "data": {
      "text/html": [
       "<div>\n",
       "<style scoped>\n",
       "    .dataframe tbody tr th:only-of-type {\n",
       "        vertical-align: middle;\n",
       "    }\n",
       "\n",
       "    .dataframe tbody tr th {\n",
       "        vertical-align: top;\n",
       "    }\n",
       "\n",
       "    .dataframe thead th {\n",
       "        text-align: right;\n",
       "    }\n",
       "</style>\n",
       "<table border=\"1\" class=\"dataframe\">\n",
       "  <thead>\n",
       "    <tr style=\"text-align: right;\">\n",
       "      <th></th>\n",
       "    </tr>\n",
       "  </thead>\n",
       "  <tbody>\n",
       "  </tbody>\n",
       "</table>\n",
       "</div>"
      ],
      "text/plain": [
       "Empty DataFrame\n",
       "Columns: []\n",
       "Index: []"
      ]
     },
     "execution_count": 12,
     "metadata": {},
     "output_type": "execute_result"
    },
    {
     "data": {
      "image/png": "[encoded data removed]",
      "text/plain": [
       "<Figure size 432x288 with 1 Axes>"
      ]
     },
     "metadata": {
      "needs_background": "light"
     },
     "output_type": "display_data"
    }
   ],
   "source": [
    "fig, ax = plt.subplots(1)\n",
    "penguins.groupby(['Species']).apply(penguin_scatter,\n",
    "                                    value_cols = ['Delta 15 N (o/oo)', 'Delta 13 C (o/oo)'],\n",
    "                                    fig = fig, ax = ax,\n",
    "                                    title = 'Delta 15 N (o/oo) vs. Delta 13 C (o/oo) for Different Species')"
   ]
  },
  {
   "cell_type": "markdown",
   "metadata": {},
   "source": [
    "There are three clear regions, but the Adelie region seems to bleed into the the Chinstrap and Gentoo regions quite a bit. It's certainly better than the \"Flipper Length vs. Body Mass\" comparison but probably not as good as the \"Culmen Length vs. Culmen Depth\" comparsion. Still, it may be a good idea to test one of our models using these columns."
   ]
  },
  {
   "cell_type": "markdown",
   "metadata": {},
   "source": [
    "## Models\n",
    "\n",
    "We will consider three models in helping us predict a penguin's speceies based on various attributes.\n"
   ]
  },
  {
   "cell_type": "code",
   "execution_count": 13,
   "metadata": {},
   "outputs": [],
   "source": [
    "from sklearn.model_selection import train_test_split\n",
    "from sklearn import preprocessing\n",
    "from sklearn.linear_model import LogisticRegression\n",
    "from sklearn.model_selection import cross_val_score\n",
    "from sklearn.metrics import confusion_matrix"
   ]
  },
  {
   "cell_type": "markdown",
   "metadata": {},
   "source": [
    "### Logistic Regression"
   ]
  },
  {
   "cell_type": "markdown",
   "metadata": {},
   "source": [
    "Let's drop the columns we know we can't use for fitting. Then, we'll drop any nan's in order to get meaningful numerical and qualitative data."
   ]
  },
  {
   "cell_type": "code",
   "execution_count": 14,
   "metadata": {},
   "outputs": [],
   "source": [
    "penguins = penguins [['Species', 'Island', 'Culmen Length (mm)', 'Culmen Depth (mm)', 'Flipper Length (mm)', \n",
    "                    'Body Mass (g)', 'Sex', 'Delta 15 N (o/oo)', 'Delta 13 C (o/oo)']]\n",
    "penguins[\"Species\"] = penguins[\"Species\"].str.split().str.get(0)\n",
    "penguins = penguins.dropna()"
   ]
  },
  {
   "cell_type": "markdown",
   "metadata": {},
   "source": [
    "Now that we have the subset of the data frame that we'd like to analyze, we can split the data into training and testing sets and do further data prepping. We wish to split the data in this manner to analyze how well our model does with unseen data. We are in a sense turning a blind eye to 20% of the data and using the other 80% to train the model on. Our further data prepping includes transforming the qualitative data (sex, island, species) into numerical values."
   ]
  },
  {
   "cell_type": "code",
   "execution_count": 15,
   "metadata": {},
   "outputs": [],
   "source": [
    "# split into training and testing\n",
    "train, test = train_test_split(penguins, test_size = 0.2)\n",
    "\n",
    "def prep_penguins_data(data_df):\n",
    "    '''\n",
    "    prepares the penguins data for our model by transforming qualitative\n",
    "    quantities into numerical values and splitting the target and \n",
    "    predictor variables\n",
    "    \n",
    "    parameters\n",
    "    ---------------\n",
    "    data_df: some subset of the penguins dataframe\n",
    "    \n",
    "    return\n",
    "    ---------------\n",
    "    X: the possible predictor variables (all except species) associated with the input \n",
    "    y: the species column of the input\n",
    "    '''\n",
    "    df = data_df.copy()\n",
    "    le = preprocessing.LabelEncoder()\n",
    "    \n",
    "    df['Sex'] = le.fit_transform(df['Sex'])\n",
    "    df['Island'] = le.fit_transform(df['Island'])\n",
    "    df['Species'] = le.fit_transform(df['Species'])\n",
    "    \n",
    "    X = df.drop(['Species'], axis = 1)\n",
    "    y = df['Species']\n",
    "        \n",
    "    return(X, y)"
   ]
  },
  {
   "cell_type": "code",
   "execution_count": 16,
   "metadata": {},
   "outputs": [],
   "source": [
    "# now split the training and desting data into the predictor and target variables\n",
    "X_train, y_train = prep_penguins_data(train)\n",
    "X_test,  y_test  = prep_penguins_data(test)"
   ]
  },
  {
   "cell_type": "markdown",
   "metadata": {},
   "source": [
    "First, we check the cross validation score on the training data."
   ]
  },
  {
   "cell_type": "code",
   "execution_count": 17,
   "metadata": {},
   "outputs": [
    {
     "data": {
      "text/plain": [
       "1.0"
      ]
     },
     "execution_count": 17,
     "metadata": {},
     "output_type": "execute_result"
    }
   ],
   "source": [
    "LR = LogisticRegression()\n",
    "cross_val_score(LR, X_train, y_train, cv = 5).mean()"
   ]
  },
  {
   "cell_type": "markdown",
   "metadata": {},
   "source": [
    "That's really high, but we used all the columns in this model. We may have overfit. Let's limit ourselves to three columns.\n",
    "\n",
    "We have already identified some potential candidate quantitative columns in our exploratory analysis, but we don't know a third column to use in conjunction with the culmen length and culmen depth. Let's write a function which can determine the best columns to use based on an input model and training data. Cross validation is helpful here because it allows for our model to be trained and tested on subsets of our training data. Since we are training and testing over many different subsets of the data and taking the mean, we are getting a better sense of the true performance of the model. "
   ]
  },
  {
   "cell_type": "code",
   "execution_count": 18,
   "metadata": {},
   "outputs": [],
   "source": [
    "def find_best_cols(model, X_train, y_train, combos):\n",
    "    '''\n",
    "    Determines the best combination of columns to use for the model using cross validation\n",
    "    \n",
    "    parameters\n",
    "    ----------------\n",
    "    model: to machine learning model to use\n",
    "    X_train, y_train: the predictor and target variables for the model\n",
    "    combos: the columns of X_train to search over \n",
    "    \n",
    "    return\n",
    "    ----------------\n",
    "    best_cols: the columns from combos that achieved the best cross validation score\n",
    "    best_score: the score those columns achieved\n",
    "    '''\n",
    "    \n",
    "    # initialize best score, best cols\n",
    "    best_score = 0\n",
    "    best_cols = []\n",
    "    # loop through al columns\n",
    "    for cols in combos: \n",
    "        x = cross_val_score(model, X_train[cols], y_train, cv = 5).mean()\n",
    "        # if we've found a better set, update\n",
    "        if x > best_score:\n",
    "            best_score = x\n",
    "            best_cols = cols\n",
    "    return best_cols, best_score"
   ]
  },
  {
   "cell_type": "markdown",
   "metadata": {},
   "source": [
    "We will check subsets of the columns that include culmen length and culmen depth."
   ]
  },
  {
   "cell_type": "code",
   "execution_count": 19,
   "metadata": {},
   "outputs": [
    {
     "name": "stdout",
     "output_type": "stream",
     "text": [
      "The best CV score was 0.9923076923076923 which was attained when using the columns: ['Culmen Length (mm)', 'Culmen Depth (mm)', 'Delta 15 N (o/oo)']\n"
     ]
    }
   ],
   "source": [
    "# get all the columns\n",
    "possible_cols = list(X_train.columns)\n",
    "# drop the two we know we'll be using for sure\n",
    "possible_cols.remove('Culmen Length (mm)')\n",
    "possible_cols.remove('Culmen Depth (mm)')\n",
    "\n",
    "# populate the columns to test with culmen length, depth, and the third other column\n",
    "subsets = [['Culmen Length (mm)', 'Culmen Depth (mm)', col] for col in possible_cols]\n",
    "\n",
    "#call our function\n",
    "best_cols, best_score = find_best_cols(LR, X_train, y_train, subsets)\n",
    "print(\"The best CV score was \" + str(best_score) + \" which was attained when using the columns: \" + str(best_cols))"
   ]
  },
  {
   "cell_type": "markdown",
   "metadata": {},
   "source": [
    "Now that we've determined the best columns, let's figure out the best inverse regulation strength $C$. We'll try values from 0-3."
   ]
  },
  {
   "cell_type": "code",
   "execution_count": 20,
   "metadata": {},
   "outputs": [
    {
     "data": {
      "text/plain": [
       "<matplotlib.collections.PathCollection at 0x25d91b9abc8>"
      ]
     },
     "execution_count": 20,
     "metadata": {},
     "output_type": "execute_result"
    },
    {
     "data": {
      "image/png": "[encoded data removed]",
      "text/plain": [
       "<Figure size 432x288 with 1 Axes>"
      ]
     },
     "metadata": {
      "needs_background": "light"
     },
     "output_type": "display_data"
    }
   ],
   "source": [
    "fig, ax = plt.subplots(1)\n",
    "\n",
    "best_score = 0\n",
    "best_c = 0\n",
    "\n",
    "# c_vals from 0-10\n",
    "c_vals = np.linspace(0, 3, 100)\n",
    "\n",
    "# loop through possible c_vals\n",
    "for c_val in c_vals:\n",
    "    \n",
    "    # evaluate the model with the current c_val\n",
    "    LR = LogisticRegression(C = c_val)\n",
    "    cv_score = cross_val_score(LR, X_train[best_cols], y_train, cv=5).mean()\n",
    "    ax.scatter(c_val, cv_score, color = \"black\")\n",
    "    \n",
    "    # check if we've beaten our previous score\n",
    "    if cv_score > best_score:\n",
    "        best_c = c_val\n",
    "        best_score = cv_score\n",
    "\n",
    "l = ax.set(title = \"Best C : \" + str(best_c),\n",
    "       xlabel = \"C\", \n",
    "       ylabel = \"CV Score\")\n",
    "ax.scatter(best_c, best_score, color = \"red\")"
   ]
  },
  {
   "cell_type": "markdown",
   "metadata": {},
   "source": [
    "It seems that for $C$ values greater than ~0.3, the CV scores are pretty close. \n",
    "\n",
    "Let's see how our model performs on the test data."
   ]
  },
  {
   "cell_type": "code",
   "execution_count": 21,
   "metadata": {},
   "outputs": [
    {
     "data": {
      "text/plain": [
       "0.9846153846153847"
      ]
     },
     "execution_count": 21,
     "metadata": {},
     "output_type": "execute_result"
    }
   ],
   "source": [
    "LR = LogisticRegression(C = best_c)\n",
    "LR.fit(X_train[best_cols], y_train)\n",
    "LR.score(X_test[best_cols], y_test)"
   ]
  },
  {
   "cell_type": "markdown",
   "metadata": {},
   "source": [
    "98%, not bad!"
   ]
  },
  {
   "cell_type": "markdown",
   "metadata": {},
   "source": [
    "### Evaluation of Logistic Regression\n",
    "We will now evaluate our model by seeing where it went wrong using the confusion matrix and by looking at a plot which displays the different regions of predictions our model produced.\n",
    "\n",
    "Our penguins species have been mapped to integers in the following way: \n",
    "\n",
    "Adelie -> 0\n",
    "\n",
    "Chinstrap -> 1\n",
    "\n",
    "Gentoo -> 2"
   ]
  },
  {
   "cell_type": "code",
   "execution_count": 22,
   "metadata": {},
   "outputs": [
    {
     "data": {
      "text/plain": [
       "array([[25,  1,  0],\n",
       "       [ 0, 11,  0],\n",
       "       [ 0,  0, 28]], dtype=int64)"
      ]
     },
     "execution_count": 22,
     "metadata": {},
     "output_type": "execute_result"
    }
   ],
   "source": [
    "# creating a new datafram that will easily display the predicted and actual values\n",
    "y_results = pd.DataFrame(y_test)\n",
    "\n",
    "# adding another column to y_test that indicates the predicted value\n",
    "y_results['Predicted'] = LR.predict(X_test[best_cols])\n",
    "# the predicted values using the testing data\n",
    "c = confusion_matrix(y_results['Species'], y_results['Predicted'])\n",
    "c"
   ]
  },
  {
   "cell_type": "markdown",
   "metadata": {},
   "source": [
    "Looks like we were wrong with only one penguin."
   ]
  },
  {
   "cell_type": "code",
   "execution_count": 23,
   "metadata": {},
   "outputs": [
    {
     "data": {
      "text/html": [
       "<div>\n",
       "<style scoped>\n",
       "    .dataframe tbody tr th:only-of-type {\n",
       "        vertical-align: middle;\n",
       "    }\n",
       "\n",
       "    .dataframe tbody tr th {\n",
       "        vertical-align: top;\n",
       "    }\n",
       "\n",
       "    .dataframe thead th {\n",
       "        text-align: right;\n",
       "    }\n",
       "</style>\n",
       "<table border=\"1\" class=\"dataframe\">\n",
       "  <thead>\n",
       "    <tr style=\"text-align: right;\">\n",
       "      <th></th>\n",
       "      <th>Species</th>\n",
       "      <th>Predicted</th>\n",
       "    </tr>\n",
       "  </thead>\n",
       "  <tbody>\n",
       "    <tr>\n",
       "      <th>129</th>\n",
       "      <td>0</td>\n",
       "      <td>1</td>\n",
       "    </tr>\n",
       "  </tbody>\n",
       "</table>\n",
       "</div>"
      ],
      "text/plain": [
       "     Species  Predicted\n",
       "129        0          1"
      ]
     },
     "execution_count": 23,
     "metadata": {},
     "output_type": "execute_result"
    }
   ],
   "source": [
    "# the mistakes are when the actual species was not the predicted species\n",
    "mistakes = y_results[y_results['Species'] != y_results['Predicted']]\n",
    "mistakes"
   ]
  },
  {
   "cell_type": "markdown",
   "metadata": {},
   "source": [
    "Before we look at the specific mistakes, let's remind ourselves of what the graph of culmen length vs. culmen depth for different species looked like:"
   ]
  },
  {
   "cell_type": "code",
   "execution_count": 24,
   "metadata": {},
   "outputs": [
    {
     "data": {
      "text/html": [
       "<div>\n",
       "<style scoped>\n",
       "    .dataframe tbody tr th:only-of-type {\n",
       "        vertical-align: middle;\n",
       "    }\n",
       "\n",
       "    .dataframe tbody tr th {\n",
       "        vertical-align: top;\n",
       "    }\n",
       "\n",
       "    .dataframe thead th {\n",
       "        text-align: right;\n",
       "    }\n",
       "</style>\n",
       "<table border=\"1\" class=\"dataframe\">\n",
       "  <thead>\n",
       "    <tr style=\"text-align: right;\">\n",
       "      <th></th>\n",
       "    </tr>\n",
       "  </thead>\n",
       "  <tbody>\n",
       "  </tbody>\n",
       "</table>\n",
       "</div>"
      ],
      "text/plain": [
       "Empty DataFrame\n",
       "Columns: []\n",
       "Index: []"
      ]
     },
     "execution_count": 24,
     "metadata": {},
     "output_type": "execute_result"
    },
    {
     "data": {
      "image/png": "[encoded data removed]",
      "text/plain": [
       "<Figure size 432x288 with 1 Axes>"
      ]
     },
     "metadata": {
      "needs_background": "light"
     },
     "output_type": "display_data"
    }
   ],
   "source": [
    "fig, ax = plt.subplots(1)\n",
    "penguins.groupby(['Species']).apply(penguin_scatter, \n",
    "                                    value_cols = ['Culmen Length (mm)', 'Culmen Depth (mm)'],\n",
    "                                    fig = fig, ax = ax,\n",
    "                                    title = \"Culmen Lengths vs. Culmen Depths for Different Species\")"
   ]
  },
  {
   "cell_type": "markdown",
   "metadata": {},
   "source": [
    "Our one mistake was with penguin 129. The model predicted it was a Chinstrap when it was really an Adelie."
   ]
  },
  {
   "cell_type": "code",
   "execution_count": 29,
   "metadata": {},
   "outputs": [
    {
     "data": {
      "text/plain": [
       "Species                   Adelie\n",
       "Island                 Torgersen\n",
       "Culmen Length (mm)          44.1\n",
       "Culmen Depth (mm)             18\n",
       "Flipper Length (mm)          210\n",
       "Body Mass (g)               4000\n",
       "Sex                         MALE\n",
       "Delta 15 N (o/oo)        9.10702\n",
       "Delta 13 C (o/oo)       -26.0136\n",
       "Name: 129, dtype: object"
      ]
     },
     "execution_count": 29,
     "metadata": {},
     "output_type": "execute_result"
    }
   ],
   "source": [
    "penguins.loc[129]"
   ]
  },
  {
   "cell_type": "markdown",
   "metadata": {},
   "source": [
    "It's easy to see why the model made this mistake. This specific penguin has a rather shallow culmen for it's culmen length. Most Adelie penguins with a culmen length of around 44mm have a culmen depth more much than 18mm. We can also see a lot of blue/orange overlap in the area of the graph around (44, 18)."
   ]
  },
  {
   "cell_type": "markdown",
   "metadata": {},
   "source": [
    "Let's now take a look at the decision regions for our logistic regression model."
   ]
  },
  {
   "cell_type": "code",
   "execution_count": 27,
   "metadata": {},
   "outputs": [],
   "source": [
    "# X_male = X_test[X_test['Sex'] == 1]\n",
    "# y_male = y_test[X_test['Sex'] == 1]\n",
    "# X_female = X_test[X_test['Sex'] == 0]\n",
    "# y_female = y_test[X_test['Sex'] == 0]\n",
    "\n",
    "\n",
    "# plot_regions(LR, X_train, y_train,\n",
    "#              X_male, y_male, \n",
    "#              ['Culmen Length (mm)', 'Culmen Depth (mm)'],\n",
    "#              \"Male\")\n"
   ]
  },
  {
   "cell_type": "code",
   "execution_count": 28,
   "metadata": {},
   "outputs": [],
   "source": [
    "# plot_regions(LR, X_train, y_train,\n",
    "#              X_female, y_female, \n",
    "#              ['Culmen Length (mm)', 'Culmen Depth (mm)'],\n",
    "#              \"Female\")"
   ]
  },
  {
   "cell_type": "code",
   "execution_count": null,
   "metadata": {},
   "outputs": [],
   "source": []
  }
 ],
 "metadata": {
  "kernelspec": {
   "display_name": "Python 3",
   "language": "python",
   "name": "python3"
  },
  "language_info": {
   "codemirror_mode": {
    "name": "ipython",
    "version": 3
   },
   "file_extension": ".py",
   "mimetype": "text/x-python",
   "name": "python",
   "nbconvert_exporter": "python",
   "pygments_lexer": "ipython3",
   "version": "3.7.6"
  }
 },
 "nbformat": 4,
 "nbformat_minor": 4
}
